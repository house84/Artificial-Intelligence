{
  "nbformat": 4,
  "nbformat_minor": 0,
  "metadata": {
    "colab": {
      "name": "FeatureRemovalProjectDataTesting.ipynb",
      "provenance": [],
      "collapsed_sections": []
    },
    "kernelspec": {
      "name": "python3",
      "display_name": "Python 3"
    },
    "accelerator": "TPU"
  },
  "cells": [
    {
      "cell_type": "code",
      "metadata": {
        "id": "fuyo_bjpXF0h",
        "colab": {
          "base_uri": "https://localhost:8080/",
          "height": 88
        },
        "outputId": "4c6c6165-f1e8-4e34-cb42-aea0bf0fef21"
      },
      "source": [
        "from tensorflow.keras.models import Sequential\n",
        "from tensorflow.keras.layers import Dense\n",
        "from keras.metrics import categorical_accuracy\n",
        "from keras.optimizers import SGD\n",
        "from keras.optimizers import adam\n",
        "from keras.regularizers import l2\n",
        "from tensorflow.keras.callbacks import EarlyStopping, ModelCheckpoint\n",
        "from sklearn.metrics import accuracy_score, precision_score, recall_score, f1_score\n",
        "import matplotlib.pyplot as plt\n",
        "import seaborn as sns\n",
        "import numpy as np"
      ],
      "execution_count": null,
      "outputs": [
        {
          "output_type": "stream",
          "text": [
            "Using TensorFlow backend.\n",
            "/usr/local/lib/python3.6/dist-packages/statsmodels/tools/_testing.py:19: FutureWarning: pandas.util.testing is deprecated. Use the functions in the public API at pandas.testing instead.\n",
            "  import pandas.util.testing as tm\n"
          ],
          "name": "stderr"
        }
      ]
    },
    {
      "cell_type": "code",
      "metadata": {
        "id": "X-0lhDmQ4Oy3",
        "colab": {
          "resources": {
            "http://localhost:8080/nbextensions/google.colab/files.js": {
              "data": "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",
              "ok": true,
              "headers": [
                [
                  "content-type",
                  "application/javascript"
                ]
              ],
              "status": 200,
              "status_text": ""
            }
          },
          "base_uri": "https://localhost:8080/",
          "height": 74
        },
        "outputId": "636811f7-a48f-45b1-d8b1-35b500c00312"
      },
      "source": [
        "from google.colab import files\n",
        "uploaded = files.upload()"
      ],
      "execution_count": null,
      "outputs": [
        {
          "output_type": "display_data",
          "data": {
            "text/html": [
              "\n",
              "     <input type=\"file\" id=\"files-583fbafb-f5c4-42e4-88a1-c20eb32605f0\" name=\"files[]\" multiple disabled />\n",
              "     <output id=\"result-583fbafb-f5c4-42e4-88a1-c20eb32605f0\">\n",
              "      Upload widget is only available when the cell has been executed in the\n",
              "      current browser session. Please rerun this cell to enable.\n",
              "      </output>\n",
              "      <script src=\"/nbextensions/google.colab/files.js\"></script> "
            ],
            "text/plain": [
              "<IPython.core.display.HTML object>"
            ]
          },
          "metadata": {
            "tags": []
          }
        },
        {
          "output_type": "stream",
          "text": [
            "Saving ProjDataAccidentDUICategorized.csv to ProjDataAccidentDUICategorized.csv\n"
          ],
          "name": "stdout"
        }
      ]
    },
    {
      "cell_type": "code",
      "metadata": {
        "id": "bVR0yzte41e4",
        "colab": {
          "base_uri": "https://localhost:8080/",
          "height": 258
        },
        "outputId": "a4e2f05b-3c29-48d6-ba7c-b07d886b935b"
      },
      "source": [
        "import pandas as pd\n",
        "data = pd.read_csv('ProjDataAccidentDUICategorized.csv', delimiter=',', dtype=\"category\") \n",
        "\n",
        "data.head()\n",
        "#print(data.dtypes)"
      ],
      "execution_count": null,
      "outputs": [
        {
          "output_type": "execute_result",
          "data": {
            "text/html": [
              "<div>\n",
              "<style scoped>\n",
              "    .dataframe tbody tr th:only-of-type {\n",
              "        vertical-align: middle;\n",
              "    }\n",
              "\n",
              "    .dataframe tbody tr th {\n",
              "        vertical-align: top;\n",
              "    }\n",
              "\n",
              "    .dataframe thead th {\n",
              "        text-align: right;\n",
              "    }\n",
              "</style>\n",
              "<table border=\"1\" class=\"dataframe\">\n",
              "  <thead>\n",
              "    <tr style=\"text-align: right;\">\n",
              "      <th></th>\n",
              "      <th>STATE</th>\n",
              "      <th>PVH</th>\n",
              "      <th>PERNOTMVIT</th>\n",
              "      <th>PERMVIT</th>\n",
              "      <th>PERSONS</th>\n",
              "      <th>DAY</th>\n",
              "      <th>MONTH</th>\n",
              "      <th>DAYofWEEK</th>\n",
              "      <th>NHS</th>\n",
              "      <th>Urban(1)orRural(2)</th>\n",
              "      <th>FUNC_SYS</th>\n",
              "      <th>RD_OWNER</th>\n",
              "      <th>ROUTE</th>\n",
              "      <th>SP_JUR</th>\n",
              "      <th>HARM_EV</th>\n",
              "      <th>MAN_COLL</th>\n",
              "      <th>RELJCT1</th>\n",
              "      <th>RELJCT2</th>\n",
              "      <th>TYP_INT</th>\n",
              "      <th>WRK_ZONE</th>\n",
              "      <th>REL_ROAD</th>\n",
              "      <th>LGT_COND</th>\n",
              "      <th>WEATHER1</th>\n",
              "      <th>CF1</th>\n",
              "      <th>CF2</th>\n",
              "      <th>CF3</th>\n",
              "      <th>FATALS</th>\n",
              "      <th>MinutesOfDay</th>\n",
              "      <th>Drunk Driver Involved</th>\n",
              "    </tr>\n",
              "  </thead>\n",
              "  <tbody>\n",
              "    <tr>\n",
              "      <th>0</th>\n",
              "      <td>1</td>\n",
              "      <td>1</td>\n",
              "      <td>0</td>\n",
              "      <td>1</td>\n",
              "      <td>1</td>\n",
              "      <td>5</td>\n",
              "      <td>1</td>\n",
              "      <td>6</td>\n",
              "      <td>1</td>\n",
              "      <td>1</td>\n",
              "      <td>1</td>\n",
              "      <td>1</td>\n",
              "      <td>1</td>\n",
              "      <td>0</td>\n",
              "      <td>14</td>\n",
              "      <td>0</td>\n",
              "      <td>0</td>\n",
              "      <td>1</td>\n",
              "      <td>1</td>\n",
              "      <td>0</td>\n",
              "      <td>2</td>\n",
              "      <td>4</td>\n",
              "      <td>1</td>\n",
              "      <td>0</td>\n",
              "      <td>0</td>\n",
              "      <td>0</td>\n",
              "      <td>1</td>\n",
              "      <td>2</td>\n",
              "      <td>0</td>\n",
              "    </tr>\n",
              "    <tr>\n",
              "      <th>1</th>\n",
              "      <td>1</td>\n",
              "      <td>0</td>\n",
              "      <td>0</td>\n",
              "      <td>2</td>\n",
              "      <td>2</td>\n",
              "      <td>8</td>\n",
              "      <td>1</td>\n",
              "      <td>2</td>\n",
              "      <td>1</td>\n",
              "      <td>2</td>\n",
              "      <td>1</td>\n",
              "      <td>1</td>\n",
              "      <td>1</td>\n",
              "      <td>0</td>\n",
              "      <td>38</td>\n",
              "      <td>0</td>\n",
              "      <td>1</td>\n",
              "      <td>12</td>\n",
              "      <td>1</td>\n",
              "      <td>0</td>\n",
              "      <td>3</td>\n",
              "      <td>2</td>\n",
              "      <td>2</td>\n",
              "      <td>20</td>\n",
              "      <td>0</td>\n",
              "      <td>0</td>\n",
              "      <td>2</td>\n",
              "      <td>1</td>\n",
              "      <td>0</td>\n",
              "    </tr>\n",
              "    <tr>\n",
              "      <th>2</th>\n",
              "      <td>1</td>\n",
              "      <td>0</td>\n",
              "      <td>0</td>\n",
              "      <td>2</td>\n",
              "      <td>2</td>\n",
              "      <td>8</td>\n",
              "      <td>1</td>\n",
              "      <td>2</td>\n",
              "      <td>1</td>\n",
              "      <td>1</td>\n",
              "      <td>1</td>\n",
              "      <td>1</td>\n",
              "      <td>1</td>\n",
              "      <td>0</td>\n",
              "      <td>24</td>\n",
              "      <td>0</td>\n",
              "      <td>0</td>\n",
              "      <td>1</td>\n",
              "      <td>1</td>\n",
              "      <td>1</td>\n",
              "      <td>4</td>\n",
              "      <td>2</td>\n",
              "      <td>10</td>\n",
              "      <td>0</td>\n",
              "      <td>0</td>\n",
              "      <td>0</td>\n",
              "      <td>1</td>\n",
              "      <td>1</td>\n",
              "      <td>0</td>\n",
              "    </tr>\n",
              "    <tr>\n",
              "      <th>3</th>\n",
              "      <td>1</td>\n",
              "      <td>0</td>\n",
              "      <td>0</td>\n",
              "      <td>2</td>\n",
              "      <td>2</td>\n",
              "      <td>9</td>\n",
              "      <td>1</td>\n",
              "      <td>3</td>\n",
              "      <td>1</td>\n",
              "      <td>1</td>\n",
              "      <td>1</td>\n",
              "      <td>1</td>\n",
              "      <td>1</td>\n",
              "      <td>0</td>\n",
              "      <td>24</td>\n",
              "      <td>0</td>\n",
              "      <td>0</td>\n",
              "      <td>1</td>\n",
              "      <td>1</td>\n",
              "      <td>0</td>\n",
              "      <td>4</td>\n",
              "      <td>1</td>\n",
              "      <td>10</td>\n",
              "      <td>0</td>\n",
              "      <td>0</td>\n",
              "      <td>0</td>\n",
              "      <td>1</td>\n",
              "      <td>3</td>\n",
              "      <td>0</td>\n",
              "    </tr>\n",
              "    <tr>\n",
              "      <th>4</th>\n",
              "      <td>1</td>\n",
              "      <td>0</td>\n",
              "      <td>0</td>\n",
              "      <td>2</td>\n",
              "      <td>2</td>\n",
              "      <td>19</td>\n",
              "      <td>1</td>\n",
              "      <td>6</td>\n",
              "      <td>1</td>\n",
              "      <td>2</td>\n",
              "      <td>1</td>\n",
              "      <td>1</td>\n",
              "      <td>1</td>\n",
              "      <td>0</td>\n",
              "      <td>12</td>\n",
              "      <td>1</td>\n",
              "      <td>0</td>\n",
              "      <td>1</td>\n",
              "      <td>1</td>\n",
              "      <td>0</td>\n",
              "      <td>1</td>\n",
              "      <td>1</td>\n",
              "      <td>1</td>\n",
              "      <td>0</td>\n",
              "      <td>0</td>\n",
              "      <td>0</td>\n",
              "      <td>1</td>\n",
              "      <td>2</td>\n",
              "      <td>0</td>\n",
              "    </tr>\n",
              "  </tbody>\n",
              "</table>\n",
              "</div>"
            ],
            "text/plain": [
              "  STATE PVH PERNOTMVIT  PERMVIT  ... CF3 FATALS MinutesOfDay Drunk Driver Involved\n",
              "0     1   1           0       1  ...   0      1            2                     0\n",
              "1     1   0           0       2  ...   0      2            1                     0\n",
              "2     1   0           0       2  ...   0      1            1                     0\n",
              "3     1   0           0       2  ...   0      1            3                     0\n",
              "4     1   0           0       2  ...   0      1            2                     0\n",
              "\n",
              "[5 rows x 29 columns]"
            ]
          },
          "metadata": {
            "tags": []
          },
          "execution_count": 3
        }
      ]
    },
    {
      "cell_type": "code",
      "metadata": {
        "id": "zOrgdJjwirub",
        "colab": {
          "base_uri": "https://localhost:8080/",
          "height": 510
        },
        "outputId": "dd49f678-e551-428b-91e5-30bc26145a2a"
      },
      "source": [
        "n = []\n",
        "v= np.arange(1,30)\n",
        "for i in data.columns:\n",
        "    n.append(i)\n",
        "#print(n)\n",
        "#print(v)\n",
        "Headers= np.column_stack((v, n))\n",
        "print(Headers)"
      ],
      "execution_count": null,
      "outputs": [
        {
          "output_type": "stream",
          "text": [
            "[['1' 'STATE']\n",
            " ['2' 'PVH']\n",
            " ['3' 'PERNOTMVIT ']\n",
            " ['4' 'PERMVIT']\n",
            " ['5' 'PERSONS']\n",
            " ['6' 'DAY']\n",
            " ['7' 'MONTH']\n",
            " ['8' 'DAYofWEEK']\n",
            " ['9' 'NHS']\n",
            " ['10' 'Urban(1)orRural(2)']\n",
            " ['11' 'FUNC_SYS']\n",
            " ['12' 'RD_OWNER']\n",
            " ['13' 'ROUTE']\n",
            " ['14' 'SP_JUR']\n",
            " ['15' 'HARM_EV']\n",
            " ['16' 'MAN_COLL']\n",
            " ['17' 'RELJCT1']\n",
            " ['18' 'RELJCT2']\n",
            " ['19' 'TYP_INT']\n",
            " ['20' 'WRK_ZONE']\n",
            " ['21' 'REL_ROAD']\n",
            " ['22' 'LGT_COND']\n",
            " ['23' 'WEATHER1']\n",
            " ['24' 'CF1']\n",
            " ['25' 'CF2']\n",
            " ['26' 'CF3']\n",
            " ['27' 'FATALS']\n",
            " ['28' 'MinutesOfDay']\n",
            " ['29' 'Drunk Driver Involved']]\n"
          ],
          "name": "stdout"
        }
      ]
    },
    {
      "cell_type": "code",
      "metadata": {
        "id": "z_hQTWdW5Gvm",
        "colab": {
          "base_uri": "https://localhost:8080/",
          "height": 34
        },
        "outputId": "0710dee6-b3d9-45bd-c606-ff1c4e40e77d"
      },
      "source": [
        "import numpy as np\n",
        "dataset = np.genfromtxt('ProjDataAccidentDUICategorized.csv', delimiter=\",\", skip_header = True) \n",
        "print(dataset.shape)"
      ],
      "execution_count": null,
      "outputs": [
        {
          "output_type": "stream",
          "text": [
            "(33654, 29)\n"
          ],
          "name": "stdout"
        }
      ]
    },
    {
      "cell_type": "code",
      "metadata": {
        "id": "CItsezujgMEe",
        "colab": {
          "base_uri": "https://localhost:8080/",
          "height": 544
        },
        "outputId": "306178e6-57cb-450c-ab13-0e5164dde18c"
      },
      "source": [
        "#print(data.iloc[0,0])\n",
        "print(dataset.shape)\n",
        "print(dataset[0:15])"
      ],
      "execution_count": null,
      "outputs": [
        {
          "output_type": "stream",
          "text": [
            "(33654, 29)\n",
            "[[ 1.  1.  0.  1.  1.  5.  1.  6.  1.  1.  1.  1.  1.  0. 14.  0.  0.  1.\n",
            "   1.  0.  2.  4.  1.  0.  0.  0.  1.  2.  0.]\n",
            " [ 1.  0.  0.  2.  2.  8.  1.  2.  1.  2.  1.  1.  1.  0. 38.  0.  1. 12.\n",
            "   1.  0.  3.  2.  2. 20.  0.  0.  2.  1.  0.]\n",
            " [ 1.  0.  0.  2.  2.  8.  1.  2.  1.  1.  1.  1.  1.  0. 24.  0.  0.  1.\n",
            "   1.  1.  4.  2. 10.  0.  0.  0.  1.  1.  0.]\n",
            " [ 1.  0.  0.  2.  2.  9.  1.  3.  1.  1.  1.  1.  1.  0. 24.  0.  0.  1.\n",
            "   1.  0.  4.  1. 10.  0.  0.  0.  1.  3.  0.]\n",
            " [ 1.  0.  0.  2.  2. 19.  1.  6.  1.  2.  1.  1.  1.  0. 12.  1.  0.  1.\n",
            "   1.  0.  1.  1.  1.  0.  0.  0.  1.  2.  0.]\n",
            " [ 1.  1.  4.  1.  4. 19.  1.  6.  1.  1.  1.  1.  1.  0. 14.  0.  0.  1.\n",
            "   1.  0.  2.  2.  1. 23. 19. 15.  1.  1.  0.]\n",
            " [ 1.  0.  1.  1.  1. 21.  1.  1.  1.  2.  1.  1.  1.  0.  8.  0.  0.  1.\n",
            "   1.  0.  1.  1.  1.  0.  0.  0.  1.  2.  0.]\n",
            " [ 1.  0.  1.  1.  1. 23.  1.  3.  1.  2.  1.  1.  1.  0. 12.  1.  0.  1.\n",
            "   1.  0.  1.  2. 10. 19. 23.  0.  1.  1.  0.]\n",
            " [ 1.  0.  0.  1.  1. 27.  1.  7.  1.  2.  1.  1.  1.  0. 59.  0.  1.  5.\n",
            "   1.  0.  8.  3. 10.  0.  0.  0.  1.  1.  1.]\n",
            " [ 1.  0.  1.  1.  1. 28.  1.  1.  1.  2.  1.  1.  1.  0.  8.  0.  0.  1.\n",
            "   1.  1.  1.  2.  1.  0.  0.  0.  1.  1.  0.]\n",
            " [ 1.  0.  0.  4.  4. 28.  1.  1.  1.  1.  1.  1.  1.  0. 12.  2.  0.  1.\n",
            "   1.  0.  1.  1.  2.  0.  0.  0.  1.  3.  0.]\n",
            " [ 1.  0.  0.  1.  1.  1.  1.  2.  1.  2.  3.  1.  3.  0.  1.  0.  0.  1.\n",
            "   1.  0.  3.  2. 10.  0.  0.  0.  1.  1.  1.]\n",
            " [ 1.  0.  0.  4.  4.  1.  1.  2.  1.  1.  3.  1.  2.  0. 12.  3.  0.  2.\n",
            "   2.  0.  1.  3.  1. 14.  0.  0.  2.  5.  0.]\n",
            " [ 1.  0.  0.  2.  2.  2.  1.  3.  0.  1.  5.  1.  3.  0. 12.  2.  0.  1.\n",
            "   1.  0.  1.  2.  1.  0.  0.  0.  1.  5.  1.]\n",
            " [ 1.  0.  0.  2.  2.  2.  1.  3.  0.  1.  5.  2.  4.  0. 42.  0.  0.  1.\n",
            "   1.  0.  4.  1.  1.  0.  0.  0.  1.  3.  0.]]\n"
          ],
          "name": "stdout"
        }
      ]
    },
    {
      "cell_type": "code",
      "metadata": {
        "id": "pJubLm_-Zk0t",
        "colab": {
          "base_uri": "https://localhost:8080/",
          "height": 119
        },
        "outputId": "9706204f-6088-4a01-8998-7f6af9211415"
      },
      "source": [
        "#Splitting Inputs and Output\n",
        "X=dataset[:,:28] #Inputs\n",
        "y=dataset[:,28]  #Output\n",
        "print(X.shape)\n",
        "print(y.shape)\n",
        "#print(z.shape)\n",
        "#print(z[0,0])\n",
        "\n",
        "#Train Test Split and seed\n",
        "from sklearn.model_selection import train_test_split\n",
        "XTRAIN, XVALID, YTRAIN, YVALID = train_test_split(X, y, random_state= 4300, \n",
        "test_size = .15, shuffle=True) #, stratify=y )\n",
        "print(XTRAIN.shape)\n",
        "print(XVALID.shape)\n",
        "print(YTRAIN.shape)\n",
        "print(YVALID.shape)"
      ],
      "execution_count": null,
      "outputs": [
        {
          "output_type": "stream",
          "text": [
            "(33654, 28)\n",
            "(33654,)\n",
            "(28605, 28)\n",
            "(5049, 28)\n",
            "(28605,)\n",
            "(5049,)\n"
          ],
          "name": "stdout"
        }
      ]
    },
    {
      "cell_type": "code",
      "metadata": {
        "id": "5MpjSs_nVbPK"
      },
      "source": [
        "#Iteratively run model on each input column and store accuracy\n",
        "\n",
        "Features = data.columns\n",
        "#print(Features) \n",
        "FeatureAccuracy = np.zeros(len(Features)-1)\n",
        "\n",
        "for i in range (len(Features)-1): \n",
        "  print(\"/////////////////////////////////////////////////////////\" + str(i))\n",
        "  model = Sequential()\n",
        "  model.add(Dense(10, input_dim = 1, kernel_initializer='normal', activation='sigmoid'))\n",
        "  model.add(Dense(1, activation='sigmoid'))\n",
        "  model.compile(loss='binary_crossentropy', optimizer='adam', metrics=['binary_accuracy'])\n",
        "  callback_a = ModelCheckpoint(filepath= 'project.hdf5', monitor='val_loss', save_best_only = True, save_weights_only = True, verbose = 1)\n",
        "  callback_b = EarlyStopping(monitor = 'val_loss', mode = 'min', patience = 10, verbose=1)\n",
        "  history = model.fit(XTRAIN[:,i], YTRAIN, batch_size=23000, epochs=10, verbose=1, validation_data=(XVALID[:,i], YVALID), callbacks=[callback_a, callback_b]) \n",
        "  model.load_weights('project.hdf5')\n",
        "  prediction = model.predict(XVALID[:,i])\n",
        "  prediction = np.round(np.clip(model.predict(XVALID[:,i]), 0, 1)) # binary\n",
        "  Validation_Accuracy = accuracy_score(YVALID, prediction.round())\n",
        "  FeatureAccuracy[i] = (Validation_Accuracy * 100)\n",
        "  \n",
        "Nums = np.arange(1,29)\n",
        "\n",
        "plt.clf() \n",
        "fig= sns.barplot(x=Nums, y=FeatureAccuracy)\n",
        "plt.xlabel(\"Feature Column Index\")\n",
        "plt.ylabel(\"Accuracy\")\n",
        "plt.title(\"Singular Feature Accuracy\")\n",
        "plt.show()"
      ],
      "execution_count": null,
      "outputs": []
    },
    {
      "cell_type": "code",
      "metadata": {
        "id": "iyMkIq6jyFd3"
      },
      "source": [
        "#Sort Features by Accuracy\n",
        "AccArray = np.vstack((Nums, FeatureAccuracy)).T\n",
        "AccArray = AccArray[np.argsort(AccArray[:, 1])]\n",
        "print(AccArray)\n",
        "#fig.set_xticklabels(fig.get_xticklabels(), rotation=90)\n",
        "\n",
        "#Show Graph\n",
        "plt.clf() \n",
        "fig= sns.barplot(x=Nums, y=FeatureAccuracy)  #sns.barplot( x=0 , y=1, data=AccArray)\n",
        "plt.xlabel(\"Feature Columns Index Number Sorted By Accuracy\")\n",
        "plt.ylabel(\"Accuracy\")\n",
        "plt.title(\"Singular Feature Accuracy\")\n",
        "plt.show()\n"
      ],
      "execution_count": null,
      "outputs": []
    },
    {
      "cell_type": "code",
      "metadata": {
        "id": "2LEJe7YzsXOH",
        "colab": {
          "base_uri": "https://localhost:8080/",
          "height": 1000
        },
        "outputId": "1c18145d-a33b-4f5b-a632-0fba0369eded"
      },
      "source": [
        "#Run Model on Features by iteratively removing least important to most\n",
        "\n",
        "removal=[]\n",
        "FeatureAccuracy2 = np.zeros(len(Features)-3)\n",
        "\n",
        "for i in range (len(Features)-3):\n",
        "  removal.append(AccArray[i,0])\n",
        "  print(removal)\n",
        "\n",
        "  Reduction=np.delete(XTRAIN, removal, axis=1)\n",
        "  print(Reduction.shape)\n",
        "  RedValid=np.delete(XVALID, removal, axis=1)\n",
        "  print(RedValid.shape)\n",
        "  print(\"/////////////////////////////////////////////////////////\" + str(i+1))"
      ],
      "execution_count": null,
      "outputs": [
        {
          "output_type": "stream",
          "text": [
            "[17.0]\n",
            "(28605, 27)\n",
            "(5049, 27)\n",
            "/////////////////////////////////////////////////////////1\n",
            "[17.0, 2.0]\n",
            "(28605, 26)\n",
            "(5049, 26)\n",
            "/////////////////////////////////////////////////////////2\n",
            "[17.0, 2.0, 3.0]\n",
            "(28605, 25)\n",
            "(5049, 25)\n",
            "/////////////////////////////////////////////////////////3\n",
            "[17.0, 2.0, 3.0, 26.0]\n",
            "(28605, 24)\n",
            "(5049, 24)\n",
            "/////////////////////////////////////////////////////////4\n",
            "[17.0, 2.0, 3.0, 26.0, 5.0]\n",
            "(28605, 23)\n",
            "(5049, 23)\n",
            "/////////////////////////////////////////////////////////5\n",
            "[17.0, 2.0, 3.0, 26.0, 5.0, 6.0]\n",
            "(28605, 22)\n",
            "(5049, 22)\n",
            "/////////////////////////////////////////////////////////6\n",
            "[17.0, 2.0, 3.0, 26.0, 5.0, 6.0, 15.0]\n",
            "(28605, 21)\n",
            "(5049, 21)\n",
            "/////////////////////////////////////////////////////////7\n",
            "[17.0, 2.0, 3.0, 26.0, 5.0, 6.0, 15.0, 24.0]\n",
            "(28605, 20)\n",
            "(5049, 20)\n",
            "/////////////////////////////////////////////////////////8\n",
            "[17.0, 2.0, 3.0, 26.0, 5.0, 6.0, 15.0, 24.0, 19.0]\n",
            "(28605, 19)\n",
            "(5049, 19)\n",
            "/////////////////////////////////////////////////////////9\n",
            "[17.0, 2.0, 3.0, 26.0, 5.0, 6.0, 15.0, 24.0, 19.0, 22.0]\n",
            "(28605, 18)\n",
            "(5049, 18)\n",
            "/////////////////////////////////////////////////////////10\n",
            "[17.0, 2.0, 3.0, 26.0, 5.0, 6.0, 15.0, 24.0, 19.0, 22.0, 21.0]\n",
            "(28605, 17)\n",
            "(5049, 17)\n",
            "/////////////////////////////////////////////////////////11\n",
            "[17.0, 2.0, 3.0, 26.0, 5.0, 6.0, 15.0, 24.0, 19.0, 22.0, 21.0, 12.0]\n",
            "(28605, 16)\n",
            "(5049, 16)\n",
            "/////////////////////////////////////////////////////////12\n",
            "[17.0, 2.0, 3.0, 26.0, 5.0, 6.0, 15.0, 24.0, 19.0, 22.0, 21.0, 12.0, 13.0]\n",
            "(28605, 15)\n",
            "(5049, 15)\n",
            "/////////////////////////////////////////////////////////13\n",
            "[17.0, 2.0, 3.0, 26.0, 5.0, 6.0, 15.0, 24.0, 19.0, 22.0, 21.0, 12.0, 13.0, 20.0]\n",
            "(28605, 14)\n",
            "(5049, 14)\n",
            "/////////////////////////////////////////////////////////14\n",
            "[17.0, 2.0, 3.0, 26.0, 5.0, 6.0, 15.0, 24.0, 19.0, 22.0, 21.0, 12.0, 13.0, 20.0, 1.0]\n",
            "(28605, 13)\n",
            "(5049, 13)\n",
            "/////////////////////////////////////////////////////////15\n",
            "[17.0, 2.0, 3.0, 26.0, 5.0, 6.0, 15.0, 24.0, 19.0, 22.0, 21.0, 12.0, 13.0, 20.0, 1.0, 25.0]\n",
            "(28605, 12)\n",
            "(5049, 12)\n",
            "/////////////////////////////////////////////////////////16\n",
            "[17.0, 2.0, 3.0, 26.0, 5.0, 6.0, 15.0, 24.0, 19.0, 22.0, 21.0, 12.0, 13.0, 20.0, 1.0, 25.0, 23.0]\n",
            "(28605, 11)\n",
            "(5049, 11)\n",
            "/////////////////////////////////////////////////////////17\n",
            "[17.0, 2.0, 3.0, 26.0, 5.0, 6.0, 15.0, 24.0, 19.0, 22.0, 21.0, 12.0, 13.0, 20.0, 1.0, 25.0, 23.0, 14.0]\n",
            "(28605, 10)\n",
            "(5049, 10)\n",
            "/////////////////////////////////////////////////////////18\n",
            "[17.0, 2.0, 3.0, 26.0, 5.0, 6.0, 15.0, 24.0, 19.0, 22.0, 21.0, 12.0, 13.0, 20.0, 1.0, 25.0, 23.0, 14.0, 16.0]\n",
            "(28605, 9)\n",
            "(5049, 9)\n",
            "/////////////////////////////////////////////////////////19\n",
            "[17.0, 2.0, 3.0, 26.0, 5.0, 6.0, 15.0, 24.0, 19.0, 22.0, 21.0, 12.0, 13.0, 20.0, 1.0, 25.0, 23.0, 14.0, 16.0, 27.0]\n",
            "(28605, 8)\n",
            "(5049, 8)\n",
            "/////////////////////////////////////////////////////////20\n",
            "[17.0, 2.0, 3.0, 26.0, 5.0, 6.0, 15.0, 24.0, 19.0, 22.0, 21.0, 12.0, 13.0, 20.0, 1.0, 25.0, 23.0, 14.0, 16.0, 27.0, 11.0]\n",
            "(28605, 7)\n",
            "(5049, 7)\n",
            "/////////////////////////////////////////////////////////21\n",
            "[17.0, 2.0, 3.0, 26.0, 5.0, 6.0, 15.0, 24.0, 19.0, 22.0, 21.0, 12.0, 13.0, 20.0, 1.0, 25.0, 23.0, 14.0, 16.0, 27.0, 11.0, 10.0]\n",
            "(28605, 6)\n",
            "(5049, 6)\n",
            "/////////////////////////////////////////////////////////22\n",
            "[17.0, 2.0, 3.0, 26.0, 5.0, 6.0, 15.0, 24.0, 19.0, 22.0, 21.0, 12.0, 13.0, 20.0, 1.0, 25.0, 23.0, 14.0, 16.0, 27.0, 11.0, 10.0, 9.0]\n",
            "(28605, 5)\n",
            "(5049, 5)\n",
            "/////////////////////////////////////////////////////////23\n",
            "[17.0, 2.0, 3.0, 26.0, 5.0, 6.0, 15.0, 24.0, 19.0, 22.0, 21.0, 12.0, 13.0, 20.0, 1.0, 25.0, 23.0, 14.0, 16.0, 27.0, 11.0, 10.0, 9.0, 8.0]\n",
            "(28605, 4)\n",
            "(5049, 4)\n",
            "/////////////////////////////////////////////////////////24\n",
            "[17.0, 2.0, 3.0, 26.0, 5.0, 6.0, 15.0, 24.0, 19.0, 22.0, 21.0, 12.0, 13.0, 20.0, 1.0, 25.0, 23.0, 14.0, 16.0, 27.0, 11.0, 10.0, 9.0, 8.0, 7.0]\n",
            "(28605, 3)\n",
            "(5049, 3)\n",
            "/////////////////////////////////////////////////////////25\n",
            "[17.0, 2.0, 3.0, 26.0, 5.0, 6.0, 15.0, 24.0, 19.0, 22.0, 21.0, 12.0, 13.0, 20.0, 1.0, 25.0, 23.0, 14.0, 16.0, 27.0, 11.0, 10.0, 9.0, 8.0, 7.0, 4.0]\n",
            "(28605, 2)\n",
            "(5049, 2)\n",
            "/////////////////////////////////////////////////////////26\n"
          ],
          "name": "stdout"
        },
        {
          "output_type": "stream",
          "text": [
            "/usr/local/lib/python3.6/dist-packages/ipykernel_launcher.py:9: DeprecationWarning: using a non-integer array as obj in delete will result in an error in the future\n",
            "  if __name__ == '__main__':\n",
            "/usr/local/lib/python3.6/dist-packages/ipykernel_launcher.py:11: DeprecationWarning: using a non-integer array as obj in delete will result in an error in the future\n",
            "  # This is added back by InteractiveShellApp.init_path()\n"
          ],
          "name": "stderr"
        }
      ]
    },
    {
      "cell_type": "code",
      "metadata": {
        "id": "n0R4jiTPZj_S"
      },
      "source": [
        "#Run Model on Features by iteratively removing least important to most\n",
        "\n",
        "removal=[]\n",
        "FeatureAccuracy2 = np.zeros(len(Features)-3)\n",
        "\n",
        "for i in range (len(Features)-3):\n",
        "  #print(AccArray[i, 0 ])\n",
        "  removal.append(AccArray[i,0])\n",
        "  \n",
        "  Reduction=np.delete(XTRAIN, removal, axis=1)\n",
        "  RedValid=np.delete(XVALID, removal, axis=1)\n",
        "  #print(Reduction.shape)\n",
        "  print(\"/////////////////////////////////////////////////////////\" + str(i))\n",
        "  model = Sequential()\n",
        "  model.add(Dense(10, input_dim = (27-i), kernel_initializer='normal', activation='sigmoid'))\n",
        "  model.add(Dense(1, activation='sigmoid'))\n",
        "  model.compile(loss='binary_crossentropy', optimizer='adam', metrics=['binary_accuracy'])\n",
        "  callback_a = ModelCheckpoint(filepath= 'project.hdf5', monitor='val_loss', save_best_only = True, save_weights_only = True, verbose = 1)\n",
        "  callback_b = EarlyStopping(monitor = 'val_loss', mode = 'min', patience = 10, verbose=1)\n",
        "  history = model.fit(Reduction, YTRAIN, batch_size=23000, epochs=1000, verbose=1, validation_data=(RedValid, YVALID), callbacks=[callback_a, callback_b]) \n",
        "  model.load_weights('project.hdf5')\n",
        "  prediction = model.predict(RedValid)\n",
        "  prediction = np.round(np.clip(model.predict(RedValid), 0, 1)) # binary\n",
        "  Validation_Accuracy = accuracy_score(YVALID, prediction.round())\n",
        "  FeatureAccuracy2[i] = (Validation_Accuracy * 100)\n",
        "\n",
        "Nums=np.arange(1,27) \n",
        "plt.clf() \n",
        "fig= sns.barplot(x=Nums, y=FeatureAccuracy2)\n",
        "plt.xlabel(\"Number of Features Removed \")\n",
        "plt.ylabel(\"Accuracy\")\n",
        "plt.title(\"Feature Removal (Least Importance to Most\")\n",
        "plt.show()\n",
        "\n",
        "np.savetxt('featureReduction.csv', AccArray, fmt='%.1f', delimiter=',')\n",
        "files.download('featureReduction.csv')"
      ],
      "execution_count": null,
      "outputs": []
    },
    {
      "cell_type": "code",
      "metadata": {
        "id": "ddrAkdJxkpzF"
      },
      "source": [
        "#Print (Repeat of the graph printed above)\n",
        "Nums=np.arange(1,27) \n",
        "print(Nums.shape)\n",
        "print(FeatureAccuracy2.shape)\n",
        "plt.clf() \n",
        "fig= sns.barplot(x=Nums, y=FeatureAccuracy2)\n",
        "plt.xlabel(\"Number of Features Removed \")\n",
        "plt.ylabel(\"Accuracy\")\n",
        "plt.title(\"Feature Removal (Least Importance to Most\")\n",
        "plt.show()\n",
        "\n",
        "print(AccArray)"
      ],
      "execution_count": null,
      "outputs": []
    },
    {
      "cell_type": "code",
      "metadata": {
        "id": "_baLdCLEs1XN"
      },
      "source": [
        "np.savetxt('featureReduction.csv', AccArray, fmt='%.1f', delimiter=',')\n",
        "files.download('featureReduction.csv')"
      ],
      "execution_count": null,
      "outputs": []
    },
    {
      "cell_type": "markdown",
      "metadata": {
        "id": "7ULsWGuifF16"
      },
      "source": [
        ""
      ]
    },
    {
      "cell_type": "markdown",
      "metadata": {
        "id": "n7HF1F7ZfGCA"
      },
      "source": [
        ""
      ]
    },
    {
      "cell_type": "markdown",
      "metadata": {
        "id": "Y-AYbNjSfGKO"
      },
      "source": [
        ""
      ]
    },
    {
      "cell_type": "markdown",
      "metadata": {
        "id": "fq1JJriqrpzG"
      },
      "source": [
        "**------Test Reduced Model with One Hot Encoding with Feature Reduction------**"
      ]
    },
    {
      "cell_type": "code",
      "metadata": {
        "id": "FvsuSTyWqdb-",
        "colab": {
          "resources": {
            "http://localhost:8080/nbextensions/google.colab/files.js": {
              "data": "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",
              "ok": true,
              "headers": [
                [
                  "content-type",
                  "application/javascript"
                ]
              ],
              "status": 200,
              "status_text": ""
            }
          },
          "base_uri": "https://localhost:8080/",
          "height": 74
        },
        "outputId": "6b218296-4fbd-446c-ab6f-faf5236722a7"
      },
      "source": [
        "#Import Array of Feature Importance By Accuracy\n",
        "\n",
        "from google.colab import files\n",
        "uploaded = files.upload()"
      ],
      "execution_count": null,
      "outputs": [
        {
          "output_type": "display_data",
          "data": {
            "text/html": [
              "\n",
              "     <input type=\"file\" id=\"files-56e5c4f1-c4fb-45e3-97e3-8ad74aaa34ae\" name=\"files[]\" multiple disabled />\n",
              "     <output id=\"result-56e5c4f1-c4fb-45e3-97e3-8ad74aaa34ae\">\n",
              "      Upload widget is only available when the cell has been executed in the\n",
              "      current browser session. Please rerun this cell to enable.\n",
              "      </output>\n",
              "      <script src=\"/nbextensions/google.colab/files.js\"></script> "
            ],
            "text/plain": [
              "<IPython.core.display.HTML object>"
            ]
          },
          "metadata": {
            "tags": []
          }
        },
        {
          "output_type": "stream",
          "text": [
            "Saving featureReduction.csv to featureReduction.csv\n"
          ],
          "name": "stdout"
        }
      ]
    },
    {
      "cell_type": "code",
      "metadata": {
        "id": "IOVHBoKxpjNE",
        "colab": {
          "base_uri": "https://localhost:8080/",
          "height": 510
        },
        "outputId": "1cf7cebd-954e-4ce7-e85d-3623b51766d4"
      },
      "source": [
        "import pandas as pd\n",
        "A_Array = pd.read_csv('featureReduction.csv', delimiter=',', dtype=\"category\") \n",
        "\n",
        "A_Array.head()\n",
        "#print(data.dtypes)\n",
        "\n",
        "import numpy as np\n",
        "AccArray = np.genfromtxt('featureReduction.csv', delimiter=\",\", skip_header = False) \n",
        "print(AccArray.shape)\n",
        "print(AccArray)"
      ],
      "execution_count": null,
      "outputs": [
        {
          "output_type": "stream",
          "text": [
            "(28, 2)\n",
            "[[ 3.  24.7]\n",
            " [14.  24.8]\n",
            " [22.  24.8]\n",
            " [15.  24.8]\n",
            " [27.  24.8]\n",
            " [13.  24.8]\n",
            " [11.  24.8]\n",
            " [10.  24.8]\n",
            " [ 9.  24.8]\n",
            " [23.  24.8]\n",
            " [ 7.  24.8]\n",
            " [26.  24.8]\n",
            " [21.  24.8]\n",
            " [ 2.  24.8]\n",
            " [24.  28.5]\n",
            " [12.  35. ]\n",
            " [25.  75.2]\n",
            " [20.  75.2]\n",
            " [ 1.  75.2]\n",
            " [18.  75.2]\n",
            " [17.  75.2]\n",
            " [16.  75.2]\n",
            " [ 8.  75.2]\n",
            " [ 6.  75.2]\n",
            " [ 5.  75.2]\n",
            " [ 4.  75.2]\n",
            " [19.  75.2]\n",
            " [28.  75.2]]\n"
          ],
          "name": "stdout"
        }
      ]
    },
    {
      "cell_type": "code",
      "metadata": {
        "id": "pK_nHc2I2DdY"
      },
      "source": [
        "#Automated Loop for Output with One Hot Encoding\n",
        "\n",
        "removalFinal=[]\n",
        "ReducedTestingl=[]\n",
        "Features = data.columns \n",
        "OneHotEncodingAccuracy = np.zeros(len(Features)-1)\n",
        "\n",
        "for i in range (27):\n",
        "  #Append Reduction Data to be tested incrementially \n",
        "  removalFinal.append(AccArray[i,0])\n",
        "  #print(removalFinal)\n",
        "  Reduction=np.delete(dataset, removalFinal, axis=1)\n",
        "  #Print(Reduction.shape)\n",
        "  print(\"/////////////////////////////////////////////////////////\" + str(i+1))\n",
        "\n",
        "  #Set Variables for Shaping DataSet for One Hot Encoding & Train Test Split\n",
        "  Size= Reduction.shape[1]\n",
        "  Size1= Reduction.shape[1]-1\n",
        "\n",
        "  #Splitting Inputs and Output\n",
        "  X=Reduction[:,:Size1] #Inputs Reduction Shape -1\n",
        "  y=Reduction[:,Size1]  #Output Reduction Shape -1\n",
        "\n",
        "  #OneHotEncode Data\n",
        "  from sklearn.preprocessing import OneHotEncoder\n",
        "  enc = OneHotEncoder(drop='first', sparse=False)\n",
        "  Xenc = enc.fit(X[:,:Size1]).transform(X[:,:Size]) \n",
        "  #print(\"Xenc Shape: \" +str(Xenc.shape))\n",
        "  DensityX = Xenc.shape[1]\n",
        "  #print(\"DensityX : \" + str(DensityX))\n",
        "\n",
        "  #Train Test Split and seed\n",
        "  from sklearn.model_selection import train_test_split\n",
        "  XTRAIN, XVALID, YTRAIN, YVALID = train_test_split(Xenc, y, random_state= 4300, \n",
        "  test_size = .15, shuffle=True)\n",
        "\n",
        "  #Build Testing Model\n",
        "  model = Sequential()\n",
        "  model.add(Dense(10, input_dim = DensityX, kernel_initializer='normal', activation='sigmoid'))\n",
        "  #model.add(Dense(40, activation='sigmoid'))\n",
        "  #model.add(Dense(40, activation='sigmoid'))\n",
        "  model.add(Dense(1, activation='sigmoid'))\n",
        "\n",
        "  #Compile Run Model \n",
        "  model.compile(loss='binary_crossentropy', optimizer='adam', metrics=['binary_accuracy'])\n",
        "  callback_a = ModelCheckpoint(filepath= 'project.hdf5', monitor='val_loss', save_best_only = True, save_weights_only = True, verbose = 1)\n",
        "  callback_b = EarlyStopping(monitor = 'val_loss', mode = 'min', patience = 50, verbose=1)\n",
        "  history = model.fit(XTRAIN, YTRAIN, batch_size=23000, epochs=2000, verbose=1, validation_data=(XVALID, YVALID), callbacks=[callback_a, callback_b]) \n",
        "\n",
        "  #Save Each Models Perfomance\n",
        "  model.load_weights('project.hdf5')\n",
        "  prediction = model.predict(XVALID)\n",
        "  prediction = np.round(np.clip(model.predict(XVALID), 0, 1)) # binary\n",
        "  Validation_Accuracy = accuracy_score(YVALID, prediction.round())\n",
        "  OneHotEncodingAccuracy[i] = (Validation_Accuracy * 100)\n",
        "\n",
        "\n",
        "#Recall All Libraries incase of timeout\n",
        "from tensorflow.keras.models import Sequential\n",
        "from tensorflow.keras.layers import Dense\n",
        "from keras.metrics import categorical_accuracy\n",
        "from keras.optimizers import SGD\n",
        "from keras.optimizers import adam\n",
        "from keras.regularizers import l2\n",
        "from tensorflow.keras.callbacks import EarlyStopping, ModelCheckpoint\n",
        "from sklearn.metrics import accuracy_score, precision_score, recall_score, f1_score\n",
        "import matplotlib.pyplot as plt\n",
        "import seaborn as sns\n",
        "import numpy as np\n",
        "\n",
        "Nums = np.arange(1,29) #Iteration Number for graph\n",
        "#Nums = AccArray[:,0] #Column Removal by number\n",
        "\n",
        "plt.clf() \n",
        "fig= sns.barplot(x=Nums, y=OneHotEncodingAccuracy)\n",
        "fig.set_xticklabels(fig.get_xticklabels(), rotation=90)\n",
        "plt.xlabel(\"Iteration of Feature Column Removal\")\n",
        "plt.ylabel(\"Accuracy\")\n",
        "plt.title(\"Feature Reduction\")\n",
        "plt.show()\n",
        "\n",
        "print(\"OneHotEncodingAccuracy: \")\n",
        "print(OneHotEncodingAccuracy)\n",
        "\n",
        "print(\"AccArray: \")\n",
        "print(AccArray)"
      ],
      "execution_count": null,
      "outputs": []
    },
    {
      "cell_type": "code",
      "metadata": {
        "id": "27iLINlg6rn0",
        "colab": {
          "base_uri": "https://localhost:8080/",
          "height": 51
        },
        "outputId": "13e55de3-8573-4c31-8164-320251cb13f5"
      },
      "source": [
        "print(AccArray[:,0])"
      ],
      "execution_count": null,
      "outputs": [
        {
          "output_type": "stream",
          "text": [
            "[ 3. 14. 22. 15. 27. 13. 11. 10.  9. 23.  7. 26. 21.  2. 24. 12. 25. 20.\n",
            "  1. 18. 17. 16.  8.  6.  5.  4. 19. 28.]\n"
          ],
          "name": "stdout"
        }
      ]
    },
    {
      "cell_type": "code",
      "metadata": {
        "id": "C2FMHnjxHW7k",
        "colab": {
          "base_uri": "https://localhost:8080/",
          "height": 859
        },
        "outputId": "a9fff87a-8cab-47d6-c973-37224d313c4c"
      },
      "source": [
        "#print(OneHotEncodingAccuracy)\n",
        "\n",
        "plt.clf() \n",
        "fig= sns.barplot(x=Nums, y=OneHotEncodingAccuracy)\n",
        "fig.set_xticklabels(fig.get_xticklabels(), rotation=90)\n",
        "plt.xlabel(\"Iteration of Feature Column Removal\")\n",
        "plt.ylabel(\"Accuracy\")\n",
        "plt.title(\"Feature Reduction using One Hot Encoding\")\n",
        "plt.show()\n",
        "\n",
        "print(\"OneHotEncodingAccuracy: \")\n",
        "print(OneHotEncodingAccuracy)\n",
        "\n",
        "print(\"AccArray: \")\n",
        "print(AccArray)"
      ],
      "execution_count": null,
      "outputs": [
        {
          "output_type": "display_data",
          "data": {
            "image/png": "[encoded data removed]",
            "text/plain": [
              "<Figure size 432x288 with 1 Axes>"
            ]
          },
          "metadata": {
            "tags": [],
            "needs_background": "light"
          }
        },
        {
          "output_type": "stream",
          "text": [
            "OneHotEncodingAccuracy: \n",
            "[79.05 79.14 79.14 79.1  78.17 78.41 78.61 78.55 78.33 78.45 78.04 78.17\n",
            " 75.46 75.2  75.4  75.44 75.28 75.24 75.24 75.24 75.24 75.24 75.26 75.24\n",
            " 75.24 75.24 75.24  0.  ]\n",
            "AccArray: \n",
            "[[ 3.  24.7]\n",
            " [14.  24.8]\n",
            " [22.  24.8]\n",
            " [15.  24.8]\n",
            " [27.  24.8]\n",
            " [13.  24.8]\n",
            " [11.  24.8]\n",
            " [10.  24.8]\n",
            " [ 9.  24.8]\n",
            " [23.  24.8]\n",
            " [ 7.  24.8]\n",
            " [26.  24.8]\n",
            " [21.  24.8]\n",
            " [ 2.  24.8]\n",
            " [24.  28.5]\n",
            " [12.  35. ]\n",
            " [25.  75.2]\n",
            " [20.  75.2]\n",
            " [ 1.  75.2]\n",
            " [18.  75.2]\n",
            " [17.  75.2]\n",
            " [16.  75.2]\n",
            " [ 8.  75.2]\n",
            " [ 6.  75.2]\n",
            " [ 5.  75.2]\n",
            " [ 4.  75.2]\n",
            " [19.  75.2]\n",
            " [28.  75.2]]\n"
          ],
          "name": "stdout"
        }
      ]
    },
    {
      "cell_type": "code",
      "metadata": {
        "id": "dEYCAY1KcGHj",
        "colab": {
          "base_uri": "https://localhost:8080/",
          "height": 308
        },
        "outputId": "cd74878f-b092-40ec-d93f-db3dcbf603b7"
      },
      "source": [
        "plt.clf() \n",
        "Nums = np.arange(1,29)\n",
        "\n",
        "plt.clf() \n",
        "fig= sns.barplot(x=AccArray[:,0], y=AccArray[:,1])\n",
        "fig.set_xticklabels(fig.get_xticklabels(), rotation=90)\n",
        "plt.xlabel(\"Feature Column Index\")\n",
        "plt.ylabel(\"Accuracy\")\n",
        "plt.title(\"Singular Feature Accuracy\")\n",
        "plt.show()"
      ],
      "execution_count": null,
      "outputs": [
        {
          "output_type": "display_data",
          "data": {
            "image/png": "[encoded data removed]",
            "text/plain": [
              "<Figure size 432x288 with 1 Axes>"
            ]
          },
          "metadata": {
            "tags": [],
            "needs_background": "light"
          }
        }
      ]
    },
    {
      "cell_type": "code",
      "metadata": {
        "id": "qFA52-1KZkKq",
        "colab": {
          "base_uri": "https://localhost:8080/",
          "height": 326
        },
        "outputId": "f667c3fc-06e0-4de8-886a-1e13b3f677a8"
      },
      "source": [
        "#Manipulate dataset by removing n columns by least importance\n",
        "#to be tested using the final Model\n",
        "\n",
        "removalFinal=[]\n",
        "ReducedTestingl=[]\n",
        "\n",
        "for i in range (4):\n",
        "  removalFinal.append(AccArray[i,0])\n",
        "  print(removalFinal)\n",
        "\n",
        "  Reduction=np.delete(dataset, removalFinal, axis=1)\n",
        "  print(Reduction.shape)\n",
        "  \n",
        "  print(\"/////////////////////////////////////////////////////////\" + str(i+1))\n",
        "\n",
        "print(\"\\nReduction Shape:\")\n",
        "print(Reduction.shape)"
      ],
      "execution_count": null,
      "outputs": [
        {
          "output_type": "stream",
          "text": [
            "[3.0]\n",
            "(33654, 28)\n",
            "/////////////////////////////////////////////////////////1\n",
            "[3.0, 14.0]\n",
            "(33654, 27)\n",
            "/////////////////////////////////////////////////////////2\n",
            "[3.0, 14.0, 22.0]\n",
            "(33654, 26)\n",
            "/////////////////////////////////////////////////////////3\n",
            "[3.0, 14.0, 22.0, 15.0]\n",
            "(33654, 25)\n",
            "/////////////////////////////////////////////////////////4\n",
            "\n",
            "Reduction Shape:\n",
            "(33654, 25)\n"
          ],
          "name": "stdout"
        },
        {
          "output_type": "stream",
          "text": [
            "/usr/local/lib/python3.6/dist-packages/ipykernel_launcher.py:9: DeprecationWarning: using a non-integer array as obj in delete will result in an error in the future\n",
            "  if __name__ == '__main__':\n"
          ],
          "name": "stderr"
        }
      ]
    },
    {
      "cell_type": "code",
      "metadata": {
        "id": "iAIIYRBTZlEB"
      },
      "source": [
        "#If Features need to be removed then run final model\n",
        "#dataset=dataset.drop(dataset.columns[RevoalArray], axis=1)"
      ],
      "execution_count": null,
      "outputs": []
    },
    {
      "cell_type": "code",
      "metadata": {
        "id": "v_r7s__R5ZmT",
        "colab": {
          "base_uri": "https://localhost:8080/",
          "height": 68
        },
        "outputId": "d553e8d8-2d21-4a48-c0f6-6c0a481eb880"
      },
      "source": [
        "#Shuffle and Display\n",
        "np.set_printoptions(precision = 2)\n",
        "np.set_printoptions(formatter = {'int': '{: 1f}'.format})\n",
        "\n",
        "#shuffle\n",
        "#import random\n",
        "#np.random.shuffle(dataset)\n",
        "\n",
        "#New Reduced Dataset : Reduction\n",
        "\n",
        "print(\"Shape of Reduction: \" + str(Reduction.shape))\n",
        "#print('')\n",
        "#print(Reduction[0:15])\n",
        "Size= Reduction.shape[1]\n",
        "Size1= Reduction.shape[1]-1\n",
        "print(\"Size = \" +str(Size))\n",
        "print(\"Size1 = \" +str(Size1))"
      ],
      "execution_count": null,
      "outputs": [
        {
          "output_type": "stream",
          "text": [
            "Shape of Reduction: (33654, 24)\n",
            "Size = 24\n",
            "Size1 = 23\n"
          ],
          "name": "stdout"
        }
      ]
    },
    {
      "cell_type": "code",
      "metadata": {
        "id": "ja_XNzyscC9A",
        "colab": {
          "base_uri": "https://localhost:8080/",
          "height": 68
        },
        "outputId": "820accde-c99b-459c-a73e-c5c57575a799"
      },
      "source": [
        "#Splitting Inputs and Output\n",
        "X=Reduction[:,:Size1] #Inputs Reduction Shape -1\n",
        "y=Reduction[:,Size1]  #Output Reduction Shape -1\n",
        "#X=dataset[:,:28]\n",
        "#y=dataset[:,28]\n",
        "print(\"Shape of X: \" +str(X.shape))\n",
        "print(\"Shape of y: \" +str(y.shape))\n",
        "print(\"First 15 Rows of output (should contain 3, 1's):\" +str(y[0:15]))"
      ],
      "execution_count": null,
      "outputs": [
        {
          "output_type": "stream",
          "text": [
            "Shape of X: (33654, 23)\n",
            "Shape of y: (33654,)\n",
            "First 15 Rows of output (should contain 3, 1's):[0. 0. 0. 0. 0. 0. 0. 0. 1. 0. 0. 1. 0. 1. 0.]\n"
          ],
          "name": "stdout"
        }
      ]
    },
    {
      "cell_type": "code",
      "metadata": {
        "id": "urU3b9TMLkYF",
        "colab": {
          "base_uri": "https://localhost:8080/",
          "height": 51
        },
        "outputId": "82bb3c1f-2c3c-4635-f295-b041545a6a33"
      },
      "source": [
        "#OneHotEncode Data\n",
        "\n",
        "from sklearn.preprocessing import OneHotEncoder\n",
        "enc = OneHotEncoder(drop='first', sparse=False)\n",
        "Xenc = enc.fit(X[:,:Size1]).transform(X[:,:Size]) #For Loop AutoMated\n",
        "#Xenc = enc.fit(X[:,:28]).transform(X[:,:29]) #For Original Full Dataset\n",
        "print(\"Xenc Shape: \" +str(Xenc.shape))\n",
        "DimX = Xenc.shape[1]\n",
        "print(\"DimX : \" + str(DimX))"
      ],
      "execution_count": null,
      "outputs": [
        {
          "output_type": "stream",
          "text": [
            "Xenc Shape: (33654, 296)\n",
            "DimX : 296\n"
          ],
          "name": "stdout"
        }
      ]
    },
    {
      "cell_type": "code",
      "metadata": {
        "id": "E9YoR1EmLRML",
        "colab": {
          "base_uri": "https://localhost:8080/",
          "height": 85
        },
        "outputId": "f8f08a6c-dd0c-4dc0-d4ac-b7fdaf00b203"
      },
      "source": [
        "#Train Test Split and seed\n",
        "from sklearn.model_selection import train_test_split\n",
        "XTRAIN, XVALID, YTRAIN, YVALID = train_test_split(Xenc, y, random_state= 4300, \n",
        "test_size = .15, shuffle=True) #, stratify=y )\n",
        "print(XTRAIN.shape)\n",
        "print(XVALID.shape)\n",
        "print(YTRAIN.shape)\n",
        "print(YVALID.shape)\n",
        "\n",
        "#Normalize test Group (Not Needed if Using One Hot Encoding)\n",
        "#from sklearn.preprocessing import StandardScaler\n",
        "#scaler = StandardScaler()\n",
        "#scaler.fit(XTRAIN)\n",
        "#XTRAIN = scaler.transform(XTRAIN)\n",
        "#XVALID = scaler.transform(XVALID)"
      ],
      "execution_count": null,
      "outputs": [
        {
          "output_type": "stream",
          "text": [
            "(28605, 296)\n",
            "(5049, 296)\n",
            "(28605,)\n",
            "(5049,)\n"
          ],
          "name": "stdout"
        }
      ]
    },
    {
      "cell_type": "code",
      "metadata": {
        "id": "OVs1iUIHMqAS",
        "colab": {
          "base_uri": "https://localhost:8080/",
          "height": 85
        },
        "outputId": "78287884-97ea-4a6f-b396-bfaf1d160fa6"
      },
      "source": [
        "#Verify Shapes of XTRAIN/VALID YTRAIN/VALID\n",
        "print(\"Training Shape: \" + str(XTRAIN.shape))\n",
        "print(\"Training Output Shape: \" + str(YTRAIN.shape))\n",
        "print(\"Validation Shape: \" + str(XVALID.shape))\n",
        "print(\"Validation Output Shape: \" + str(YVALID.shape))"
      ],
      "execution_count": null,
      "outputs": [
        {
          "output_type": "stream",
          "text": [
            "Training Shape: (28605, 296)\n",
            "Training Output Shape: (28605,)\n",
            "Validation Shape: (5049, 296)\n",
            "Validation Output Shape: (5049,)\n"
          ],
          "name": "stdout"
        }
      ]
    },
    {
      "cell_type": "code",
      "metadata": {
        "id": "tQ7_MOjYOmbB",
        "colab": {
          "base_uri": "https://localhost:8080/",
          "height": 119
        },
        "outputId": "bbcb5845-0687-44e2-b980-4194843eaba9"
      },
      "source": [
        "print(\"Total Drunk Drivers for Training Data: \" + str(sum(YTRAIN)))\n",
        "print(\"Total Drunk Drivers for Validation Data: \" + str(sum(YVALID)))\n",
        "print(\"Total Drunk Drivers in Training and Validation: \" + str(sum(YTRAIN)+sum(YVALID)))\n",
        "print(\"Total Drunk Drivers from Original Dataset: \" +str(sum(dataset[:,28])))\n",
        "print()\n",
        "ratio = (100*(1-8379/33654))\n",
        "print(\"Percent of the incidents not involving a drunk driver %.2f%%\" % ratio)"
      ],
      "execution_count": null,
      "outputs": [
        {
          "output_type": "stream",
          "text": [
            "Total Drunk Drivers for Training Data: 7129.0\n",
            "Total Drunk Drivers for Validation Data: 1250.0\n",
            "Total Drunk Drivers in Training and Validation: 8379.0\n",
            "Total Drunk Drivers from Original Dataset: 8379.0\n",
            "\n",
            "Percent of the incidents not involving a drunk driver 75.10%\n"
          ],
          "name": "stdout"
        }
      ]
    },
    {
      "cell_type": "code",
      "metadata": {
        "id": "T637Ix3AcVZc"
      },
      "source": [
        "model = Sequential()\n",
        "model.add(Dense(10, input_dim = DimX, kernel_initializer='normal', activation='sigmoid'))\n",
        "#model.add(Dense(40, activation='sigmoid'))\n",
        "#model.add(Dense(40, activation='sigmoid'))\n",
        "model.add(Dense(1, activation='sigmoid'))"
      ],
      "execution_count": null,
      "outputs": []
    },
    {
      "cell_type": "code",
      "metadata": {
        "id": "1qZN8u_Tcbga"
      },
      "source": [
        "model.compile(loss='binary_crossentropy', optimizer='adam', metrics=['binary_accuracy'])\n",
        "\n",
        "callback_a = ModelCheckpoint(filepath= 'project.hdf5', monitor='val_loss', save_best_only = True, save_weights_only = True, verbose = 1)\n",
        "callback_b = EarlyStopping(monitor = 'val_loss', mode = 'min', patience = 50, verbose=1)\n",
        "\n",
        "history = model.fit(XTRAIN, YTRAIN, batch_size=23000, epochs=2000, verbose=1, validation_data=(XVALID, YVALID), callbacks=[callback_a, callback_b]) "
      ],
      "execution_count": null,
      "outputs": []
    },
    {
      "cell_type": "code",
      "metadata": {
        "id": "_W9XBN98kzqI",
        "colab": {
          "base_uri": "https://localhost:8080/",
          "height": 764
        },
        "outputId": "ceaf0ff9-9787-47d3-ce43-e08fd1bbf22e"
      },
      "source": [
        "model.load_weights('project.hdf5')\n",
        "\n",
        "# Check what's in the history\n",
        "import matplotlib.pyplot as plt\n",
        "import matplotlib.pyplot as plt2\n",
        "print(history.params)\n",
        "# Plot the learning curves (loss/accuracy/MAE)\n",
        "plt.plot(history.history['loss']) # replace with accuracy/MAE\n",
        "plt.plot(history.history['val_loss']) # replace with val_accuracy, etc.\n",
        "plt.ylabel('Loss')\n",
        "plt.xlabel('epoch')\n",
        "plt.legend(['training data', 'validation data'], loc='upper right')\n",
        "plt.show()\n",
        "# Plot the learning curves (loss/accuracy/MAE)\n",
        "plt.plot(history.history['binary_accuracy']) # replace with accuracy/MAE\n",
        "plt.plot(history.history['val_binary_accuracy']) # replace with val_accuracy, etc.\n",
        "plt.ylabel('Accuracy')\n",
        "plt.xlabel('epoch')\n",
        "plt.legend(['training data', 'validation data'], loc='lower right')\n",
        "plt2.show()\n",
        "model.summary()"
      ],
      "execution_count": null,
      "outputs": [
        {
          "output_type": "stream",
          "text": [
            "{'verbose': 1, 'epochs': 2000, 'steps': 2}\n"
          ],
          "name": "stdout"
        },
        {
          "output_type": "display_data",
          "data": {
            "image/png": "[encoded data removed]",
            "text/plain": [
              "<Figure size 432x288 with 1 Axes>"
            ]
          },
          "metadata": {
            "tags": [],
            "needs_background": "light"
          }
        },
        {
          "output_type": "display_data",
          "data": {
            "image/png": "[encoded data removed]",
            "text/plain": [
              "<Figure size 432x288 with 1 Axes>"
            ]
          },
          "metadata": {
            "tags": [],
            "needs_background": "light"
          }
        },
        {
          "output_type": "stream",
          "text": [
            "Model: \"sequential_198\"\n",
            "_________________________________________________________________\n",
            "Layer (type)                 Output Shape              Param #   \n",
            "=================================================================\n",
            "dense_398 (Dense)            (None, 10)                2970      \n",
            "_________________________________________________________________\n",
            "dense_399 (Dense)            (None, 1)                 11        \n",
            "=================================================================\n",
            "Total params: 2,981\n",
            "Trainable params: 2,981\n",
            "Non-trainable params: 0\n",
            "_________________________________________________________________\n"
          ],
          "name": "stdout"
        }
      ]
    },
    {
      "cell_type": "code",
      "metadata": {
        "id": "A4GsIuNXfhEE",
        "colab": {
          "base_uri": "https://localhost:8080/",
          "height": 136
        },
        "outputId": "336fbadb-fb22-4238-9b8e-48e38d17202e"
      },
      "source": [
        "from sklearn.metrics import accuracy_score, precision_score, recall_score, f1_score\n",
        "np.set_printoptions(precision = 2)\n",
        "\n",
        "prediction = model.predict(XVALID)\n",
        "prediction = np.round(np.clip(model.predict(XVALID), 0, 1)) # binary\n",
        "\n",
        "Validation_Accuracy = accuracy_score(YVALID, prediction.round())\n",
        "Validation_Precision = precision_score(YVALID, prediction.round())\n",
        "Validation_Recall = recall_score(YVALID, prediction.round())\n",
        "Validation_F1score = f1_score(YVALID, prediction.round())\n",
        "\n",
        "print(\"Validation Accuracy: %.2f%%\" % (Validation_Accuracy * 100.0))\n",
        "print(\"Validation Precision: %.2f%%\" % (Validation_Precision * 100.0))\n",
        "print(\"Validation Recall: %.2f%%\" % (Validation_Recall * 100.0))\n",
        "print(\"Validation F1-score: %.2f\" % (Validation_F1score))\n",
        "print()\n",
        "result = (100*Validation_Accuracy)-ratio\n",
        "print(\"Model's predicted outcome rated against assuming \\n\"\n",
        "+ \"non-intoxicated involvment for all cases of %.2f%%\"  %result +\" points.\")"
      ],
      "execution_count": null,
      "outputs": [
        {
          "output_type": "stream",
          "text": [
            "Validation Accuracy: 78.39%\n",
            "Validation Precision: 60.67%\n",
            "Validation Recall: 36.16%\n",
            "Validation F1-score: 0.45\n",
            "\n",
            "Model's predicted outcome rated against assuming \n",
            "non-intoxicated involvment for all cases of 3.29% points.\n"
          ],
          "name": "stdout"
        }
      ]
    },
    {
      "cell_type": "code",
      "metadata": {
        "id": "iMEDuRTgfst6"
      },
      "source": [
        "np.set_printoptions(precision = 2)\n",
        "#print ('True Data:')\n",
        "#print(YVALID[:10])\n",
        "#prediction = model.predict(XVALID)\n",
        "#prediction = np.round(np.clip(model.predict(XVALID), 0, 1)) # binary\n",
        "#print ('Prediction:')\n",
        "#print(prediction[0:10])"
      ],
      "execution_count": null,
      "outputs": []
    },
    {
      "cell_type": "code",
      "metadata": {
        "id": "Pt49WIzXf58a",
        "colab": {
          "base_uri": "https://localhost:8080/",
          "height": 279
        },
        "outputId": "c992a30c-d09b-43ba-d2a0-3df4f93c71dc"
      },
      "source": [
        "import matplotlib.pyplot as plt\n",
        "\n",
        "plt.scatter(YVALID, prediction)\n",
        "plt.ylabel('Predicted Data Validation Set')\n",
        "plt.xlabel('True Data')\n",
        "plt.show()"
      ],
      "execution_count": null,
      "outputs": [
        {
          "output_type": "display_data",
          "data": {
            "image/png": "[encoded data removed]",
            "text/plain": [
              "<Figure size 432x288 with 1 Axes>"
            ]
          },
          "metadata": {
            "tags": [],
            "needs_background": "light"
          }
        }
      ]
    }
  ]
}